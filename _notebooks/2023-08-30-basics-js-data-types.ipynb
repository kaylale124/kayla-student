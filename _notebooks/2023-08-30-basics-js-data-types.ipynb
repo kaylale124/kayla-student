{
 "cells": [
  {
   "cell_type": "raw",
   "metadata": {},
   "source": [
    "---\n",
    "title: Javascript Data Types/Lists\n",
    "hide: True\n",
    "comments: true\n",
    "description: A Tech Talk on javascript data types and how to use with lists\n",
    "type: ccc\n",
    "permalink: /basics/datatypes\n",
    "---"
   ]
  },
  {
   "cell_type": "raw",
   "metadata": {},
   "source": [
    "{% include nav_basics.html %}\n"
   ]
  },
  {
   "cell_type": "markdown",
   "metadata": {},
   "source": [
    "# Hacks\n",
    "Create a JavaScript snippet below with the following requirements:\n",
    "- Create an object representing yourself as a person. The object should have keys for your name, age, current classes, interests, and two more of your choosing\n",
    "- Your object must contain keys whose values are arrays. The arrays can be arrays of strings, numbers, or even other objects if you would like\n",
    "- Print the entire object with console.log after declaring it\n",
    "- Manipulate the arrays within the object and print the entire object with console.log as well as the specific changed key afterwards\n",
    "- Perform mathematical operations on fields in your object such as +, -, /, % etc. and print the results with console.log along with a message contextualizing them\n",
    "- Use typeof to determine the types of at least 3 fields in your object"
   ]
  },
  {
   "cell_type": "code",
   "execution_count": 8,
   "metadata": {
    "vscode": {
     "languageId": "javascript"
    }
   },
   "outputs": [
    {
     "data": {
      "application/javascript": "// put your javascript code here (make sure to run it and check your outputs in the console)\n\n//assign variable\nvar about = {name: \"Kayla\", age: 15, currentClasses: \"3D Anim., Math, Chem, CSSE, AP World\", interests: \"Soccer, piano\" ,favoriteMovie:\"Barbie\",hobbies: \"Baking\" };\n// print object\nconsole.log(about);\n//manipulate the arrays\nabout.name = about.name.split(\",\");\nabout.name.push(\"Kay-kay\");\nconsole.log(\"Array: name: Kayla, Kay-kay\" );\nconsole.log(about);\n//mathematical operations\nconsole.log(\"divide: age / 2\");\nconsole.log(about.age / 2 + \". Half of my age is 7.5\");\nconsole.log(\"add: age + 10\");\nconsole.log(about.age + 10 + \". In 10 years I will be 25\");\n//type of currentClasses, age, and hobbies\nconsole.log(typeof currentClasses);\nconsole.log(typeof age);\nconsole.log(typeof hobbies);\n",
      "text/plain": [
       "<IPython.core.display.Javascript object>"
      ]
     },
     "metadata": {},
     "output_type": "display_data"
    }
   ],
   "source": [
    "%%js\n",
    "// put your javascript code here (make sure to run it and check your outputs in the console)\n",
    "\n",
    "//assign variable\n",
    "var about = {\n",
    "    name: \"Kayla\", \n",
    "    age: 15, \n",
    "    currentClasses: \"3D Anim., Math, Chem, CSSE, AP World\", \n",
    "    interests: \"Soccer, Piano\" ,\n",
    "    favoriteMovie:\"Barbie\",hobbies: \"Baking\" };\n",
    "// print object\n",
    "console.log(about);\n",
    "//manipulate the arrays\n",
    "about.name = about.name.split(\",\");\n",
    "about.name.push(\"Kay-kay\");\n",
    "console.log(\"Array: name: Kayla, Kay-kay\" );\n",
    "console.log(about);\n",
    "//mathematical operations\n",
    "console.log(\"divide: age / 2\");\n",
    "console.log(about.age / 2 + \". Half of my age is 7.5\");\n",
    "console.log(\"add: age + 10\");\n",
    "console.log(about.age + 10 + \". In 10 years I will be 25\");\n",
    "//type of currentClasses, age, and hobbies\n",
    "console.log(typeof currentClasses);\n",
    "console.log(typeof age);\n",
    "console.log(typeof hobbies);"
   ]
  }
 ],
 "metadata": {
  "kernelspec": {
   "display_name": "Python 3 (ipykernel)",
   "language": "python",
   "name": "python3"
  },
  "language_info": {
   "codemirror_mode": {
    "name": "ipython",
    "version": 3
   },
   "file_extension": ".py",
   "mimetype": "text/x-python",
   "name": "python",
   "nbconvert_exporter": "python",
   "pygments_lexer": "ipython3",
   "version": "3.10.12"
  }
 },
 "nbformat": 4,
 "nbformat_minor": 4
}
