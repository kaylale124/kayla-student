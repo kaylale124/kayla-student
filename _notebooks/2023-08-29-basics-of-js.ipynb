{
 "cells": [
  {
   "cell_type": "markdown",
   "metadata": {},
   "source": [
    "---\n",
    "title: Basics of Javascript\n",
    "hide: True\n",
    "comments: true\n",
    "description: A Tech Talk on how to use javascript\n",
    "type: ccc\n",
    "permalink: /basics/javascript\n",
    "author: Rohan Juneja\n",
    "---"
   ]
  },
  {
   "cell_type": "raw",
   "metadata": {},
   "source": [
    "{% include nav_basics.html %}\n"
   ]
  },
  {
   "cell_type": "markdown",
   "metadata": {},
   "source": [
    "# Hacks\n",
    "- Write a JavaScript program that compares two variables, a and b. Log \"a is greater\" if a is greater than b, \"b is greater\" if b is greater than a, and \"both are equal\" if a and b are equal. Make sure to use if statements and console.log"
   ]
  },
  {
   "cell_type": "code",
   "execution_count": 3,
   "metadata": {
    "vscode": {
     "languageId": "javascript"
    }
   },
   "outputs": [
    {
     "data": {
      "application/javascript": "// put your javascript code here\n",
      "text/plain": [
       "<IPython.core.display.Javascript object>"
      ]
     },
     "metadata": {},
     "output_type": "display_data"
    }
   ],
   "source": [
    "%%js\n",
    "\n",
    "%%js\n",
    "console.log(\"Comparing two variables: a and b\")\n",
    "\n",
    "//assign variable\n",
    "var a = 94\n",
    "var b = 21\n",
    "\n",
    "// a = 94\n",
    "console.log(\"a = \" + a)\n",
    "// b = 21\n",
    "console.log(\"b = \" + b)\n",
    "\n",
    "if (a > b) {\n",
    "    console.log(\"a is greater\")\n",
    "} else if (b > a) {\n",
    "    console.log(\"b is greater\")\n",
    "} else if (b = a){\n",
    "    console.log(\"a and b are the same\")\n",
    "}"
   ]
  }
 ],
 "metadata": {
  "kernelspec": {
   "display_name": "Python 3",
   "language": "python",
   "name": "python3"
  },
  "language_info": {
   "codemirror_mode": {
    "name": "ipython",
    "version": 3
   },
   "file_extension": ".py",
   "mimetype": "text/x-python",
   "name": "python",
   "nbconvert_exporter": "python",
   "pygments_lexer": "ipython3",
   "version": "3.10.12"
  },
  "orig_nbformat": 4
 },
 "nbformat": 4,
 "nbformat_minor": 2
}
