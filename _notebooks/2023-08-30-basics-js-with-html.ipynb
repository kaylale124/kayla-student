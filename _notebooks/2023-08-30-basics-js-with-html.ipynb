{
 "cells": [
  {
   "cell_type": "markdown",
   "metadata": {},
   "source": [
    "---\n",
    "title: Using Javascript with HTML DOM\n",
    "hide: True\n",
    "comments: true\n",
    "description: A Tech Talk on how javascript can interact with HTML DOM\n",
    "type: ccc\n",
    "permalink: /basics/dom\n",
    "author: Rohan Juneja\n",
    "---"
   ]
  },
  {
   "cell_type": "raw",
   "metadata": {},
   "source": [
    "{% include nav_basics.html %}\n"
   ]
  },
  {
   "cell_type": "markdown",
   "metadata": {},
   "source": [
    "# Hacks\n",
    "- Copy your HTML code from the HTML hacks. Write a Javascript snippet to switch the links of the two a tags when a button is pressed. Once they are switched, change the inner HTML of the top p tag to the word \"switched!\""
   ]
  },
  {
   "cell_type": "code",
   "execution_count": 12,
   "metadata": {
    "vscode": {
     "languageId": "html"
    }
   },
   "outputs": [
    {
     "data": {
      "text/html": [
       "<!-- html code goes here (make sure to run) -->\n",
       "<button id=\"buttonId\" onclick=\"switchLinks()\">Click here for a surprise</button>\n",
       "<h3>Do you want to learn some soccer?</h3>\n",
       "<div id=\"divContainerIDbutton\">\n",
       "  <p id=\"change\">Click here to learn more!</p>\n",
       "</div>\n",
       "<br>\n",
       "<li><button><a id=\"link1\" href=\"https://www.youtube.com/watch?v=QqBVjKlZ5k4\">Learn 30 Skills in 10 mins</a></button></li><br>\n",
       "<li><button><a id=\"link2\" href=\"https://www.youtube.com/watch?v=cTCgU4Vz0rE\">Basic Soccer rules</a></button></li><br>\n",
       "\n",
       "<script>\n",
       "  var link1 = document.getElementById(\"link1\")\n",
       "  var link2 = document.getElementById(\"link2\")\n",
       "  var change = document.getElementById(\"change\")\n",
       "\n",
       "  var after1 = link1.href\n",
       "  var after2 = link2.href\n",
       "\n",
       "  var text1 = link1.innerText\n",
       "  var text2 = link2.innerText\n",
       "\n",
       "  function switchLinks() {\n",
       "    link1.href = after2\n",
       "    link2.href = after1\n",
       "    link1.innerText = text2\n",
       "    link2.innerText = text1\n",
       "\n",
       "    change.innerHTML = \"Switched!\";\n",
       "  }\n",
       "</script>\n",
       "\n"
      ],
      "text/plain": [
       "<IPython.core.display.HTML object>"
      ]
     },
     "metadata": {},
     "output_type": "display_data"
    }
   ],
   "source": [
    "%%html\n",
    "<!-- html code goes here (make sure to run) -->\n",
    "<button id=\"buttonId\" onclick=\"switchLinks()\">Click here for a surprise</button>\n",
    "<h3>Do you want to learn some soccer?</h3>\n",
    "<div id=\"divContainerIDbutton\">\n",
    "  <p id=\"change\">Click here to learn more!</p>\n",
    "</div>\n",
    "<br>\n",
    "<li><button><a id=\"link1\" href=\"https://www.youtube.com/watch?v=QqBVjKlZ5k4\">Learn 30 Skills in 10 mins</a></button></li><br>\n",
    "<li><button><a id=\"link2\" href=\"https://www.youtube.com/watch?v=cTCgU4Vz0rE\">Basic Soccer rules</a></button></li><br>\n",
    "\n",
    "<script>\n",
    "  var link1 = document.getElementById(\"link1\")\n",
    "  var link2 = document.getElementById(\"link2\")\n",
    "  var change = document.getElementById(\"change\")\n",
    "\n",
    "  var after1 = link1.href\n",
    "  var after2 = link2.href\n",
    "\n",
    "  var text1 = link1.innerText\n",
    "  var text2 = link2.innerText\n",
    "\n",
    "  function switchLinks() {\n",
    "    link1.href = after2\n",
    "    link2.href = after1\n",
    "    link1.innerText = text2\n",
    "    link2.innerText = text1\n",
    "\n",
    "    change.innerHTML = \"Switched!\";\n",
    "  }\n",
    "</script>\n",
    "\n"
   ]
  }
 ],
 "metadata": {
  "kernelspec": {
   "display_name": "Python 3",
   "language": "python",
   "name": "python3"
  },
  "language_info": {
   "codemirror_mode": {
    "name": "ipython",
    "version": 3
   },
   "file_extension": ".py",
   "mimetype": "text/x-python",
   "name": "python",
   "nbconvert_exporter": "python",
   "pygments_lexer": "ipython3",
   "version": "3.10.12"
  },
  "orig_nbformat": 4
 },
 "nbformat": 4,
 "nbformat_minor": 2
}
