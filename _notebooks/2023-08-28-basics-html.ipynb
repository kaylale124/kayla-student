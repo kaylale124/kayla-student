{
 "cells": [
  {
   "cell_type": "markdown",
   "metadata": {},
   "source": [
    "---\n",
    "layout: post\n",
    "hide: True\n",
    "comments: true\n",
    "title: Basics of HTML Guide\n",
    "description: An introduction to basic HTML, and resources to learn more.\n",
    "type: ccc\n",
    "permalink: /basics/html\n",
    "author: Rohan Juneja\n",
    "---"
   ]
  },
  {
   "cell_type": "raw",
   "metadata": {},
   "source": [
    "{% include nav_basics.html %}\n"
   ]
  },
  {
   "cell_type": "markdown",
   "metadata": {},
   "source": [
    "# HTML Hacks\n",
    "- Below is a wireframe for an HTML element you will create. A wireframe is a rough visual representation of HTML elements on a page and isn't necessarily to scale or have the exact styling that the final HTML will have. Using the syntax above, try to create an HTML snippet that corresponds to the below wireframe.\n",
    "- The \"a tags\" can contain any links that you want\n",
    "\n",
    "![wireframe for html hacks]({{ site.baseurl }}/images/wireframe.png)"
   ]
  },
  {
   "cell_type": "code",
   "execution_count": 4,
   "metadata": {
    "vscode": {
     "languageId": "html"
    }
   },
   "outputs": [
    {
     "data": {
      "text/html": [
       "\n",
       "<!-- put your HTML code in this cell, Make sure to press the Run button to see your results below -->\n",
       "\n",
       "<h3>Do you want to learn some soccer?</h3>\n",
       "<p>Click here to learn more!</p>\n",
       "<div>\n",
       "    <li><button><a href=\"https://www.youtube.com/watch?v=QqBVjKlZ5k4\">Learn 30 Skill in 10 mins</a></button></li>\n",
       "    <li><button><a href=\"https://www.youtube.com/watch?v=cTCgU4Vz0rE\">Basic Soccer rules</a></button></li>\n",
       "</div>\n"
      ],
      "text/plain": [
       "<IPython.core.display.HTML object>"
      ]
     },
     "metadata": {},
     "output_type": "display_data"
    }
   ],
   "source": [
    "%%html\n",
    "<h3>Do you want to learn some soccer?</h3>\n",
    "<p>Click here to learn more!</p>\n",
    "<div>\n",
    "    <li><button><a href=\"https://www.youtube.com/watch?v=QqBVjKlZ5k4\">Learn 30 Skill in 10 mins</a></button></li>\n",
    "    <li><button><a href=\"https://www.youtube.com/watch?v=cTCgU4Vz0rE\">Basic Soccer rules</a></button></li>\n",
    "</div>\n"
   ]
  }
 ],
 "metadata": {
  "kernelspec": {
   "display_name": "Python 3 (ipykernel)",
   "language": "python",
   "name": "python3"
  },
  "language_info": {
   "codemirror_mode": {
    "name": "ipython",
    "version": 3
   },
   "file_extension": ".py",
   "mimetype": "text/x-python",
   "name": "python",
   "nbconvert_exporter": "python",
   "pygments_lexer": "ipython3",
   "version": "3.10.12"
  }
 },
 "nbformat": 4,
 "nbformat_minor": 2
}
